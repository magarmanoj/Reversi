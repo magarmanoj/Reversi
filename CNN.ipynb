{
 "cells": [
  {
   "cell_type": "markdown",
   "metadata": {},
   "source": [
    "# Convolutioneel Neuraal Netwerk\n",
    "\n",
    "In deze opdracht ga je een model opbouwen om op basis van een aantal MRI-scans te detecteren of een persoon een hersentumor heeft of niet.\n",
    "\n",
    "Hiervoor maken we gebruik van [deze dataset](https://www.kaggle.com/datasets/navoneel/brain-mri-images-for-brain-tumor-detection) die een 253 scans bevat.\n",
    "\n",
    "Doorheen deze oefening ga je de volgende stappen uitvoeren:\n",
    "* Data downloaden en inladen\n",
    "* Data augmentation\n",
    "* Data modelling\n",
    "* Model evaluation\n",
    "\n",
    "Plaats je code voor deze delen in de stappen hieronder. Vergeet ook zeker niet de bijhorende vragen te beantwoorden.\n",
    "\n",
    "**Opgepast:** Laat de output staan zodat het eenvoudiger is om je bekomen resultaten te interpreteren"
   ]
  },
  {
   "cell_type": "code",
   "execution_count": 100,
   "metadata": {},
   "outputs": [],
   "source": [
    "# plaats alle benodigde imports hier\n",
    "import opendatasets as od\n",
    "import os\n",
    "import tensorflow as tf\n",
    "from tensorflow.keras import Sequential\n",
    "from tensorflow.keras.layers import Conv2D, MaxPooling2D, Flatten, Dense, Dropout, BatchNormalization\n",
    "from tensorflow.keras.losses import BinaryCrossentropy\n",
    "from tensorflow.keras.metrics import Accuracy, Precision, Recall\n",
    "from sklearn.utils.class_weight import compute_class_weight\n",
    "import numpy as np\n",
    "from keras.regularizers import l2\n",
    "from keras.optimizers import Adam\n",
    "import matplotlib.pyplot as plt\n",
    "\n"
   ]
  },
  {
   "cell_type": "markdown",
   "metadata": {},
   "source": [
    "## Data downloaden en inladen\n",
    "\n",
    "Download in de code-cellen hieronder de dataset en lees deze in. Zorg ervoor dat je een trainings en validatiedata hebt.\n",
    "Een testset moet niet apart gehouden worden\n",
    "Om de dataset in te laden kan je de ImageFolder klasse gebruiken van pytorch.\n",
    "\n",
    "Zorg er ook voor dat er aan data augmentation gedaan wordt. \n",
    "Voorzie dat er minstens drie verschillende augmentations uitgevoerd worden. \n",
    "\n",
    "Vragen:\n",
    "* Hoe is de dataset gestructureerd?\n",
    "* Hoe vind je de labels?\n",
    "* Is er een splitsing tussen trainings/validatie/testdata of moet je dit zelf verzorgen?\n",
    "* Hoeveel beelden kan je overhouden voor validatiedata?\n",
    "* Met het aantal beelden in deze dataset: op welke manieren kan je er toch voor zorgen dat je een goed getrained model kan bekomen.\n",
    "  Wat zijn de belangrijkste parameters van de verschillende augmentation lagen? Wat is het effect van deze parameter. **Let op:** Wees hierbij zo volledig mogelijk. Geef dus niet alleen de waarde van de parameters maar ook de beschrijving van het effect van die parameter."
   ]
  },
  {
   "cell_type": "markdown",
   "metadata": {},
   "source": [
    "**Antwoord:**\n",
    "- 3 hoofdmappen en in de eerste map: brain-mri-images-for-brain-tumor-detection bevatten submappen no en yes. In deze folder vind je de MRI afbeeldingen in jpeg formaat.\n",
    "- De labels zijn in deze geval no or yes folder naam.\n",
    "- Je moet het zelf doen.\n",
    "- Een veelgebruikte splitsing is 80-20: 80% voor training en 20% voor validaite\n",
    "- 3 manieren:\n",
    "    - Data augmentation:Maakt op een automatische manier extra data's.\n",
    "    - Transfer learning: Gebruik een voorgetraind model en pas dit aan aan jouw dataset.\n",
    "    - Cross-validation:gebruikt om zo veel mogelijk data te gebruiken voor training en validatie.\n",
    "- Belangrijkste parameters\n",
    "    - RandomHorizontalFlip p=0.5 geeft de kans op horizontale spiegeling van de afbeelding\n",
    "    - RandomRotation degrees=45 bepaalt de mate van rotatie.\n",
    "    - RandomResizedCrop: scale=(0.8, 1.0) bepaalt de schaal van het uitknippen van de afbeelding"
   ]
  },
  {
   "cell_type": "code",
   "execution_count": 101,
   "metadata": {},
   "outputs": [
    {
     "name": "stdout",
     "output_type": "stream",
     "text": [
      "Skipping, found downloaded files in \"./brain-mri-images-for-brain-tumor-detection\" (use force=True to force download)\n"
     ]
    }
   ],
   "source": [
    "# downloaden dataset\n",
    "dataset_url = 'https://www.kaggle.com/datasets/navoneel/brain-mri-images-for-brain-tumor-detection'\n",
    "od.download(dataset_url)\n"
   ]
  },
  {
   "cell_type": "code",
   "execution_count": null,
   "metadata": {},
   "outputs": [],
   "source": []
  }
 ],
 "metadata": {
  "kernelspec": {
   "display_name": "Python 3 (ipykernel)",
   "language": "python",
   "name": "python3"
  },
  "language_info": {
   "codemirror_mode": {
    "name": "ipython",
    "version": 3
   },
   "file_extension": ".py",
   "mimetype": "text/x-python",
   "name": "python",
   "nbconvert_exporter": "python",
   "pygments_lexer": "ipython3",
   "version": "3.10.13"
  },
  "vscode": {
   "interpreter": {
    "hash": "d5e8e3a19af5ceb2434683dff87da6345c3b29f7eb0a8a138558c07d014a01cc"
   }
  }
 },
 "nbformat": 4,
 "nbformat_minor": 4
}
