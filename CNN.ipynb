{
 "cells": [
  {
   "cell_type": "markdown",
   "metadata": {},
   "source": [
    "# Convolutioneel Neuraal Netwerk\n",
    "\n",
    "In deze opdracht ga je een model opbouwen om op basis van een aantal MRI-scans te detecteren of een persoon een hersentumor heeft of niet.\n",
    "\n",
    "Hiervoor maken we gebruik van [deze dataset](https://www.kaggle.com/datasets/navoneel/brain-mri-images-for-brain-tumor-detection) die een 253 scans bevat.\n",
    "\n",
    "Doorheen deze oefening ga je de volgende stappen uitvoeren:\n",
    "* Data downloaden en inladen\n",
    "* Data augmentation\n",
    "* Data modelling\n",
    "* Model evaluation\n",
    "\n",
    "Plaats je code voor deze delen in de stappen hieronder. Vergeet ook zeker niet de bijhorende vragen te beantwoorden.\n",
    "\n",
    "**Opgepast:** Laat de output staan zodat het eenvoudiger is om je bekomen resultaten te interpreteren"
   ]
  }
