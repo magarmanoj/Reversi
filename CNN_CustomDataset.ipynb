{
 "cells": [
  {
   "cell_type": "markdown",
   "metadata": {},
   "source": [
    "Dataset with target value in json\n",
    "\n"
]
  },
  {
   "cell_type": "markdown",
   "metadata": {},
   "source": [
    "## 1. Custom Data Loader\n"   ]
  },
  {
   "cell_type": "code",
   "execution_count": null,
   "metadata": {},
   "outputs": [],
   "source": [
    "import os\n",
    "from PIL import Image\n",
    "import torch\n",
    "from torch.utils.data import Dataset, DataLoader, random_split\n",
    "from torchvision import transforms"
   ]
  },
  {
   "cell_type": "code",
   "execution_count": null,
   "metadata": {},
   "outputs": [],
   "source": [
    "class BrainTumorDataset(Dataset):\n",
    "    def __init__(self, img_dir, transform=None):\n",
    "        \"\"\"\n",
    "        Args:\n",
    "            img_dir (str): Directory with all the images.\n",
    "            transform (callable, optional): Optional transformations to apply to the images.\n",
    "        \"\"\"\n",
    "        self.img_dir = img_dir\n",
    "        self.transform = transform\n",
    "        self.image_files = os.listdir(img_dir)  # List all image files in the directory\n",
    "\n",
    "    def __len__(self):\n",
    "        return len(self.image_files)\n",
    "\n",
    "    def __getitem__(self, idx):\n",
    "        # Get image path\n",
    "        img_name = self.image_files[idx]\n",
    "        img_path = os.path.join(self.img_dir, img_name)\n",
    "        \n",
    "        # Load image\n",
    "        image = Image.open(img_path).convert(\"RGB\")\n",
    "        \n",
    "        # Extract label from filename\n",
    "        if \"tumor\" in img_name.lower():\n",
    "            label = 1\n",
    "        elif \"no_tumor\" in img_name.lower():\n",
    "            label = 0\n",
    "        else:\n",
    "            raise ValueError(f\"Cannot infer label from filename: {img_name}\")\n",
    "        \n",
    "        # Apply transformations\n",
    "        if self.transform:\n",
    "            image = self.transform(image)\n",
    "        \n",
    "        return image, label"
   ]
  },
  {
   "cell_type": "code",
   "execution_count": null,
   "metadata": {},
   "outputs": [],
   "source": [
    "# Path to images\n",
    "img_dir = 'brain_tumor_dataset/images'\n",
    "\n",
    "# Data transformations for training and validation\n",
    "data_transforms = {\n",
    "    'train': transforms.Compose([\n",
    "        transforms.RandomHorizontalFlip(),\n",
    "        transforms.RandomRotation(10),\n",
    "        transforms.RandomResizedCrop(224),\n",
    "        transforms.ToTensor(),\n",
    "        transforms.Normalize([0.485, 0.456, 0.406], [0.229, 0.224, 0.225])\n",
    "    ]),\n",
    "    'val': transforms.Compose([\n",
    "        transforms.Resize(256),\n",
    "        transforms.CenterCrop(224),\n",
    "        transforms.ToTensor(),\n",
    "        transforms.Normalize([0.485, 0.456, 0.406], [0.229, 0.224, 0.225])\n",
    "    ]),\n",
    "}\n",
    "\n",
    "# Load the custom dataset\n",
    "full_dataset = BrainTumorDataset(img_dir=img_dir, transform=data_transforms['train'])\n",
    "\n",
    "# Split into training and validation sets\n",
    "train_size = int(0.8 * len(full_dataset))\n",
    "val_size = len(full_dataset) - train_size\n",
    "train_dataset, val_dataset = random_split(full_dataset, [train_size, val_size])\n",
    "\n",
    "# Set the correct transform for each dataset\n",
    "train_dataset.dataset.transform = data_transforms['train']  # Apply train transform to train split\n",
    "val_dataset.dataset.transform = data_transforms['val']      # Apply val transform to validation split\n",
    "\n",
    "# Create DataLoaders for training and validation\n",
    "batch_size = 32\n",
    "train_loader = DataLoader(train_dataset, batch_size=batch_size, shuffle=True, num_workers=4)\n",
    "val_loader = DataLoader(val_dataset, batch_size=batch_size, shuffle=False, num_workers=4)\n",
    "\n",
    "# Check the number of batches\n",
    "print(f\"Train loader batches: {len(train_loader)}\")\n",
    "print(f\"Validation loader batches: {len(val_loader)}\")"
   ]
  },
  {
   "cell_type": "markdown",
   "metadata": {},
   "source": [
    "## 1. ImageWithTargetDataset In json een tagert \n"
   ]
  },
{
   "cell_type": "code",
   "execution_count": 1,
   "metadata": {},
   "outputs": [],
   "source": [
    "import json\n",
    "import os\n",
    "from PIL import Image\n",
    "import torch\n",
    "from torch.utils.data import Dataset, DataLoader, random_split\n",
    "from torchvision import transforms\n",
    "import torch.nn as nn\n",
    "import torch.optim as optim"
   ]
  },
  {
   "cell_type": "code",
   "execution_count": 2,
   "metadata": {},
   "outputs": [],
   "source": [
    "class ImageWithTargetDataset(Dataset):\n",
    "    def __init__(self, img_dir, annotations_file, transform=None):\n",
    "        \"\"\"\n",
    "        Args:\n",
    "            img_dir (str): Path to the directory with the images.\n",
    "            annotations_file (str): Path to the JSON file with annotations.\n",
    "            transform (callable, optional): Optional transformations to apply to the images.\n",
    "        \"\"\"\n",
    "        self.img_dir = img_dir\n",
    "        self.transform = transform\n",
    "        # Load annotations from the JSON file\n",
    "        with open(annotations_file, 'r') as f:\n",
    "            self.annotations = json.load(f)\n",
    "        # Create a list of image filenames\n",
    "        self.image_files = list(self.annotations.keys())\n",
    "\n",
    "    def __len__(self):\n",
    "        return len(self.image_files)\n",
    "\n",
    "    def __getitem__(self, idx):\n",
    "        # Get the filename\n",
    "        img_name = self.image_files[idx]\n",
    "        img_path = os.path.join(self.img_dir, img_name)\n",
    "        # Load the image\n",
    "        image = Image.open(img_path).convert(\"RGB\")\n",
    "        # Get the target value (people count)\n",
    "        target = self.annotations[img_name][\"people_count\"]\n",
    "        # Apply transformations\n",
    "        if self.transform:\n",
    "            image = self.transform(image)\n",
    "        return image, target"
   ]
  },
  {
   "cell_type": "code",
   "execution_count": 3,
   "metadata": {},
   "outputs": [],
   "source": [
    "data_transforms = transforms.Compose([\n",
    "    transforms.Resize((224, 224)),\n",
    "    transforms.ToTensor(),\n",
    "])"
   ]
  },
  {
   "cell_type": "code",
   "execution_count": 4,
   "metadata": {},
   "outputs": [],
   "source": [
    "img_dir = 'path_to_images'  # Replace this with the actual path to your images\n",
    "annotations_file = 'annotations.json'  # Path to your JSON file with annotations\n",
    "\n",
    "# Load the full dataset\n",
    "full_dataset = ImageWithTargetDataset(img_dir=img_dir, annotations_file=annotations_file, transform=data_transforms)\n",
    "\n",
    "# Get dataset size and print\n",
    "dataset_size = len(full_dataset)\n",
    "print(f\"Total number of samples in the dataset: {dataset_size}\")\n",
    "\n",
    "# Split the dataset into 80% train and 20% test\n",
    "train_size = int(0.8 * dataset_size)\n",
    "test_size = dataset_size - train_size\n",
    "train_dataset, test_dataset = random_split(full_dataset, [train_size, test_size])\n",
    "\n",
    "# Create DataLoaders for train and test\n",
    "batch_size = 32\n",
    "train_loader = DataLoader(train_dataset, batch_size=batch_size, shuffle=True)\n",
    "test_loader = DataLoader(test_dataset, batch_size=batch_size, shuffle=False)\n",
    "\n",
    "# Check batch sizes\n",
    "print(f\"Train loader batches: {len(train_loader)}\")\n",
    "print(f\"Test loader batches: {len(test_loader)}\")"
   ]
  },
  {
   "cell_type": "code",
   "execution_count": 5,
   "metadata": {},
   "outputs": [],
   "source": [
    "class RegressionModel(nn.Module):\n",
    "    def __init__(self):\n",
    "        super(RegressionModel, self).__init__()\n",
    "        self.fc1 = nn.Linear(224 * 224 * 3, 128)  # 224x224x3 = 150528 input features\n",
    "        self.fc2 = nn.Linear(128, 1)  # 1 output: predicted people count\n",
    "\n",
    "    def forward(self, x):\n",
    "        x = x.view(-1, 224 * 224 * 3)  # Flatten the input\n",
    "        x = torch.relu(self.fc1(x))\n",
    "        x = self.fc2(x)\n",
    "        return x"
   ]
  },
  {
   "cell_type": "code",
   "execution_count": 6,
   "metadata": {},
   "outputs": [],
   "source": [
    "model = RegressionModel()\n",
    "criterion = nn.MSELoss()  # Mean Squared Error (MSE) for regression\n",
    "optimizer = optim.Adam(model.parameters(), lr=0.001)"
   ]
  },
  {
   "cell_type": "code",
   "execution_count": 7,
   "metadata": {},
   "outputs": [],
   "source": [
    "num_epochs = 10\n",
    "for epoch in range(num_epochs):\n",
    "    model.train()\n",
    "    running_loss = 0.0\n",
    "    for inputs, targets in train_loader:\n",
    "        optimizer.zero_grad()\n",
    "        outputs = model(inputs)\n",
    "        loss = criterion(outputs, targets.view(-1, 1))  # Loss expects a vector\n",
    "        loss.backward()\n",
    "        optimizer.step()\n",
    "        running_loss += loss.item()\n",
    "\n",
    "    print(f\"Epoch {epoch+1}/{num_epochs}, Loss: {running_loss/len(train_loader)}\")"
   ]
  },
  {
   "cell_type": "markdown",
   "metadata": {},
   "source": [
    "## 1. Custom Data Generator with Keras `Sequence` Class\n",
    "Using a custom generator class is helpful when handling large datasets that don't fit in memory. This approach loads data in batches."
   ]
  },
  {
   "cell_type": "code",
   "metadata": {},
   "source": [
    "# Import required libraries\n",
    "from tensorflow.keras.utils import Sequence\n",
    "import numpy as np\n",
    "import cv2"
   ],
   "execution_count": null,
   "outputs": []
  },
  {
   "cell_type": "code",
   "metadata": {},
   "source": [
    "# Define custom data generator class\n",
    "class CustomDataGenerator(Sequence):\n",
    "    def __init__(self, image_filenames, labels, batch_size, image_size):\n",
    "        self.image_filenames = image_filenames\n",
    "        self.labels = labels\n",
    "        self.batch_size = batch_size\n",
    "        self.image_size = image_size\n",
    "\n",
    "    def __len__(self):\n",
    "        return int(np.ceil(len(self.image_filenames) / self.batch_size))\n",
    "\n",
    "    def __getitem__(self, idx):\n",
    "        batch_x = self.image_filenames[idx * self.batch_size:(idx + 1) * self.batch_size]\n",
    "        batch_y = self.labels[idx * self.batch_size:(idx + 1) * self.batch_size]\n",
    "\n",
    "        # Load and normalize images\n",
    "        images = [cv2.resize(cv2.imread(filename), self.image_size) for filename in batch_x]\n",
    "        images = np.array(images) / 255.0\n",
    "        labels = np.array(batch_y)\n",
    "\n",
    "        return images, labels"
   ],
   "execution_count": null,
   "outputs": []
  },
  {
   "cell_type": "code",
   "metadata": {},
   "source": [
    "# Example usage of the CustomDataGenerator\n",
    "image_filenames = ['path/to/image1.jpg', 'path/to/image2.jpg']  # Replace with actual paths\n",
    "labels = [0, 1]  # Replace with actual labels\n",
    "\n",
    "data_generator = CustomDataGenerator(image_filenames, labels, batch_size=32, image_size=(128, 128))\n",
    "\n",
    "# Check the output shape\n",
    "sample_images, sample_labels = data_generator[0]\n",
    "print(sample_images.shape, sample_labels.shape)"
   ],
   "execution_count": null,
   "outputs": []
  },
  {
   "cell_type": "markdown",
   "metadata": {},
   "source": [
    "## 2. Using `image_dataset_from_directory`\n",
    "This function is suitable for structured datasets where images are organized in subdirectories for each class."
   ]
  },
  {
   "cell_type": "code",
   "metadata": {},
   "source": [
    "# Import TensorFlow\n",
    "import tensorflow as tf"
   ],
   "execution_count": null,
   "outputs": []
  },
  {
   "cell_type": "code",
   "metadata": {},
   "source": [
    "# Load dataset from directory\n",
    "dataset_directory = \"path/to/dataset\"  # Replace with actual path\n",
    "batch_size = 32\n",
    "image_size = (128, 128)\n",
    "\n",
    "train_dataset = tf.keras.utils.image_dataset_from_directory(\n",
    "    dataset_directory,\n",
    "    labels=\"inferred\",\n",
    "    label_mode=\"int\",\n",
    "    batch_size=batch_size,\n",
    "    image_size=image_size,\n",
    "    shuffle=True\n",
    ")"
   ],
   "execution_count": null,
   "outputs": []
  },
  {
   "cell_type": "code",
   "metadata": {},
   "source": [
    "# Check the dataset by printing a batch of images and labels\n",
    "for images, labels in train_dataset.take(1):\n",
    "    print(\"Images shape:\", images.shape)\n",
    "    print(\"Labels shape:\", labels.shape)"
   ],
   "execution_count": null,
   "outputs": []
  },
  {
   "cell_type": "markdown",
   "metadata": {},
   "source": [
    "## 3. Using `list_files` and `.map()`\n",
    "For datasets with more complex structures or mixed data, you can use `list_files` to collect file paths and `.map()` to preprocess."
   ]
  },
  {
   "cell_type": "code",
   "metadata": {},
   "source": [
    "# Define file pattern and parameters\n",
    "file_pattern = \"path/to/dataset/*/*.jpg\"  # Replace with actual file pattern\n",
    "batch_size = 32\n",
    "image_size = (128, 128)\n",
    "\n",
    "# Get file paths\n",
    "file_paths = tf.data.Dataset.list_files(file_pattern, shuffle=True)"
   ],
   "execution_count": null,
   "outputs": []
  },
  {
   "cell_type": "code",
   "metadata": {},
   "source": [
    "# Define a function to load and preprocess each image\n",
    "def load_and_preprocess_image(file_path):\n",
    "    label = tf.strings.split(file_path, '/')[-2]  # Use folder name as label\n",
    "    image = tf.io.read_file(file_path)\n",
    "    image = tf.image.decode_jpeg(image, channels=3)\n",
    "    image = tf.image.resize(image, image_size)\n",
    "    image = image / 255.0  # Normalize\n",
    "    return image, label"
   ],
   "execution_count": null,
   "outputs": []
  },
  {
   "cell_type": "code",
   "metadata": {},
   "source": [
    "# Apply the function using `.map()`\n",
    "dataset = file_paths.map(load_and_preprocess_image, num_parallel_calls=tf.data.AUTOTUNE)\n",
    "\n",
    "# Batch the dataset\n",
    "dataset = dataset.batch(batch_size).prefetch(tf.data.AUTOTUNE)"
   ],
   "execution_count": null,
   "outputs": []
  }
 ],
 "metadata": {
  "kernelspec": {
   "display_name": "Python 3",
   "language": "python",
   "name": "python3"
  },
  "language_info": {
   "name": "python",
   "version": "3.8.10"
  }
 },
 "nbformat": 4,
 "nbformat_minor": 5
}
